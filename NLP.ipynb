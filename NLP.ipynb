{
 "cells": [
  {
   "cell_type": "code",
   "execution_count": 3,
   "metadata": {},
   "outputs": [
    {
     "name": "stdout",
     "output_type": "stream",
     "text": [
      "['Alice', 'was', 'beginning', 'to', 'get', 'very', 'tired', 'of', 'sitting', 'by', 'her', 'sister', 'on', 'the', 'bank', ',', 'and', 'of', 'having', 'nothing', 'to', 'do', '.']\n"
     ]
    },
    {
     "name": "stderr",
     "output_type": "stream",
     "text": [
      "[nltk_data] Downloading package punkt to\n",
      "[nltk_data]     C:\\Users\\ANKIT\\AppData\\Roaming\\nltk_data...\n",
      "[nltk_data]   Package punkt is already up-to-date!\n"
     ]
    }
   ],
   "source": [
    "import nltk\n",
    "import warnings\n",
    "warnings.filterwarnings('ignore')\n",
    "nltk.download('punkt')\n",
    "\n",
    "sentence = \"Alice was beginning to get very tired of sitting by her sister on the bank, and of having nothing to do.\"\n",
    "\n",
    "sentence_tokenized = nltk.word_tokenize(sentence)\n",
    "\n",
    "print(sentence_tokenized)"
   ]
  },
  {
   "cell_type": "code",
   "execution_count": 4,
   "metadata": {},
   "outputs": [
    {
     "name": "stdout",
     "output_type": "stream",
     "text": [
      "['Alice', 'was', 'beginning', 'to', 'get', 'very', 'tired', 'of', 'sitting', 'by', 'her', 'sister', 'on', 'the', 'bank', ',', 'and', 'of', 'having', 'nothing', 'to', 'do', ':', 'once', 'or', 'twice', 'she', 'had', 'peeped', 'into', 'the', 'book', 'her', 'sister', 'was', 'reading', ',', 'but', 'it', 'had', 'no', 'pictures', 'or', 'conversations', 'in', 'it', ',', '“', 'and', 'what', 'is', 'the', 'use', 'of', 'a', 'book', ',', '”', 'thought', 'Alice', '“', 'without', 'pictures', 'or', 'conversations', '?', '”']\n"
     ]
    }
   ],
   "source": [
    "paragraph = \"\"\"\n",
    "            Alice was beginning to get very tired of sitting by her sister on the bank, and of having nothing to do: once or twice she had peeped into the book her sister was reading, \n",
    "            but it had no pictures or conversations in it, “and what is the use of a book,” thought Alice “without pictures or conversations?”\n",
    "\"\"\"\n",
    "\n",
    "para_tokenized = nltk.word_tokenize(paragraph)\n",
    "\n",
    "print (para_tokenized)"
   ]
  },
  {
   "cell_type": "markdown",
   "metadata": {},
   "source": [
    "## Normalization"
   ]
  },
  {
   "cell_type": "code",
   "execution_count": 5,
   "metadata": {},
   "outputs": [
    {
     "name": "stderr",
     "output_type": "stream",
     "text": [
      "[nltk_data] Downloading package stopwords to\n",
      "[nltk_data]     C:\\Users\\ANKIT\\AppData\\Roaming\\nltk_data...\n"
     ]
    },
    {
     "name": "stdout",
     "output_type": "stream",
     "text": [
      "print tokens \n",
      "['Alice', 'beginning', 'get', 'tired', 'sitting', 'sister', 'bank', ',', 'nothing', ':', 'twice', 'peeped', 'book', 'sister', 'reading', ',', 'pictures', 'conversations', ',', '“', 'use', 'book', ',', '”', 'thought', 'Alice', '“', 'without', 'pictures', 'conversations', '?', '”']\n"
     ]
    },
    {
     "name": "stderr",
     "output_type": "stream",
     "text": [
      "[nltk_data]   Package stopwords is already up-to-date!\n"
     ]
    }
   ],
   "source": [
    "from nltk.corpus import stopwords\n",
    "# download stop words from nltk library\n",
    "\n",
    "nltk.download('stopwords')\n",
    "stop_words = set(stopwords.words('english'))\n",
    "\n",
    "tokens = nltk.word_tokenize(paragraph)\n",
    "\n",
    "clean_paragraph = [word for word in tokens if word not in stop_words]\n",
    "\n",
    "try:\n",
    "    print(\"tokens are \")\n",
    "    print(clean_paragraph)\n",
    "except:\n",
    "    print(\"expected variable called clean_sentence\")"
   ]
  },
  {
   "cell_type": "code",
   "execution_count": 6,
   "metadata": {},
   "outputs": [
    {
     "name": "stdout",
     "output_type": "stream",
     "text": [
      "wow this is cool ! wow this is cool\n",
      "WOW THIS IS COOL ! WOW THIS IS COOL\n"
     ]
    }
   ],
   "source": [
    "sentence = \"Wow this is cool ! Wow this is cool\"\n",
    "lit_sentence = sentence.lower()\n",
    "upp_sentence = sentence.upper()\n",
    "\n",
    "print(lit_sentence)\n",
    "print(upp_sentence)"
   ]
  },
  {
   "cell_type": "markdown",
   "metadata": {},
   "source": [
    "## Stemming and Lemmatization"
   ]
  },
  {
   "cell_type": "code",
   "execution_count": 7,
   "metadata": {},
   "outputs": [
    {
     "name": "stdout",
     "output_type": "stream",
     "text": [
      "List of tokens: \n",
      "['There', 'mighe', 'be', 'some', 'sense', 'in', 'your', 'knocking']\n",
      "\n",
      "\n",
      "List of Stemmed World: \n",
      "['there', 'migh', 'be', 'some', 'sens', 'in', 'your', 'knock']\n"
     ]
    }
   ],
   "source": [
    "from nltk.tokenize import word_tokenize\n",
    "from nltk.stem import PorterStemmer\n",
    "\n",
    "stemmer = PorterStemmer()\n",
    "\n",
    "sentence = \"There mighe be some sense in your knocking\"\n",
    "\n",
    "tokens = word_tokenize(sentence)\n",
    "word_stemmed = [stemmer.stem(word) for word in tokens]\n",
    "\n",
    "print(\"List of tokens: \")\n",
    "print(tokens)\n",
    "\n",
    "print(\"\\n\")\n",
    "print(\"List of Stemmed World: \")\n",
    "print(word_stemmed)"
   ]
  },
  {
   "cell_type": "code",
   "execution_count": 9,
   "metadata": {},
   "outputs": [
    {
     "name": "stderr",
     "output_type": "stream",
     "text": [
      "[nltk_data] Downloading package wordnet to\n",
      "[nltk_data]     C:\\Users\\ANKIT\\AppData\\Roaming\\nltk_data...\n",
      "[nltk_data]   Package wordnet is already up-to-date!\n"
     ]
    },
    {
     "name": "stdout",
     "output_type": "stream",
     "text": [
      "['There', 'mighe', 'be', 'some', 'sense', 'in', 'your', 'knocking']\n"
     ]
    }
   ],
   "source": [
    "from nltk.stem import WordNetLemmatizer\n",
    "from nltk.tokenize import word_tokenize\n",
    "nltk.download('wordnet')\n",
    "\n",
    "Lemmatizer = WordNetLemmatizer()\n",
    "sentence = \"There mighe be some sense in your knocking\"\n",
    "tokens = word_tokenize(sentence)\n",
    "\n",
    "lemma = [Lemmatizer.lemmatize(token) for token in tokens]\n",
    "\n",
    "print(lemma)"
   ]
  },
  {
   "cell_type": "markdown",
   "metadata": {},
   "source": [
    "## Bag Of Words"
   ]
  },
  {
   "cell_type": "code",
   "execution_count": 10,
   "metadata": {},
   "outputs": [],
   "source": [
    "corpus = [\"Emma was a Catholic because her mother was a Catholic, and Nory’s mother was a Catholic because her father was a Catholic, and her father was a Catholic because his mother was a Catholic, or had been.\"]"
   ]
  },
  {
   "cell_type": "code",
   "execution_count": 11,
   "metadata": {},
   "outputs": [
    {
     "data": {
      "text/plain": [
       "CountVectorizer()"
      ]
     },
     "execution_count": 11,
     "metadata": {},
     "output_type": "execute_result"
    }
   ],
   "source": [
    "from sklearn.feature_extraction.text import CountVectorizer\n",
    "corpus_vectorizer = CountVectorizer()\n",
    "corpus_vectorizer.fit(corpus)"
   ]
  },
  {
   "cell_type": "code",
   "execution_count": 12,
   "metadata": {},
   "outputs": [
    {
     "data": {
      "text/plain": [
       "{'emma': 4,\n",
       " 'was': 12,\n",
       " 'catholic': 3,\n",
       " 'because': 1,\n",
       " 'her': 7,\n",
       " 'mother': 9,\n",
       " 'and': 0,\n",
       " 'nory': 10,\n",
       " 'father': 5,\n",
       " 'his': 8,\n",
       " 'or': 11,\n",
       " 'had': 6,\n",
       " 'been': 2}"
      ]
     },
     "execution_count": 12,
     "metadata": {},
     "output_type": "execute_result"
    }
   ],
   "source": [
    "#show count for each word present in corpus\n",
    "corpus_vectorizer.vocabulary_"
   ]
  },
  {
   "cell_type": "code",
   "execution_count": 13,
   "metadata": {},
   "outputs": [],
   "source": [
    "corpus = \"Emma was a Catholic because her mother was a Catholic, and Nory’s mother was a Catholic because her father was a Catholic, and her father was a Catholic because his mother was a Catholic, or had been.\""
   ]
  },
  {
   "cell_type": "code",
   "execution_count": 14,
   "metadata": {},
   "outputs": [
    {
     "name": "stdout",
     "output_type": "stream",
     "text": [
      "{'Emma': 1, 'was': 6, 'a': 6, 'Catholic': 3, 'because': 3, 'her': 3, 'mother': 3, 'Catholic,': 3, 'and': 2, 'Nory’s': 1, 'father': 2, 'his': 1, 'or': 1, 'had': 1, 'been.': 1}\n"
     ]
    }
   ],
   "source": [
    "#Python code without any nlp library\n",
    "tokens = corpus.split()\n",
    "#Uncomment to see all the tokens\n",
    "#print (tokens)\n",
    "#define empty dictionary \n",
    "dic = {}\n",
    "\n",
    "#save frequency of each token in dictiory\n",
    "for token in tokens:\n",
    "  count = 1\n",
    "  if token not in dic:\n",
    "    dic[token] = count\n",
    "  else:\n",
    "    dic[token] = dic[token] + 1\n",
    "\n",
    "print (dic)"
   ]
  },
  {
   "cell_type": "markdown",
   "metadata": {},
   "source": [
    "## TF-IDF"
   ]
  },
  {
   "cell_type": "code",
   "execution_count": 16,
   "metadata": {},
   "outputs": [
    {
     "name": "stdout",
     "output_type": "stream",
     "text": [
      "TF-IDF table of corpus\n",
      "\n",
      "\n",
      "             doc_1     doc_2     doc_3\n",
      "angelina  0.000000  0.000000  1.693147\n",
      "cute      1.000000  1.000000  1.000000\n",
      "he        0.000000  1.693147  0.000000\n",
      "is        1.000000  1.000000  1.000000\n",
      "she       1.693147  0.000000  0.000000\n",
      "very      0.000000  1.287682  2.575364\n"
     ]
    }
   ],
   "source": [
    "from sklearn.feature_extraction.text import TfidfVectorizer\n",
    "import pandas as pd\n",
    "\n",
    "doc_1 = \"She is cute\"\n",
    "doc_2 = \"He is very cute\"\n",
    "doc_3 = \"Angelina is very very cute\"\n",
    "\n",
    "corpus = [doc_1, doc_2, doc_3]\n",
    "\n",
    "corpus_preprocess = []\n",
    "\n",
    "for doc in corpus:\n",
    "  corpus_preprocess.append(doc.lower())\n",
    "\n",
    "corpus_vectorizer = TfidfVectorizer(norm=None)\n",
    "tf_idf_scores = corpus_vectorizer.fit_transform(corpus_preprocess)\n",
    "\n",
    "feature_names = corpus_vectorizer.get_feature_names()\n",
    "corpus_index = [doc for doc in corpus_preprocess]\n",
    "\n",
    "print (\"TF-IDF table of corpus\")\n",
    "print(\"\\n\")\n",
    "\n",
    "print(pd.DataFrame(tf_idf_scores.T.todense(), index = feature_names, columns = [\"doc_1\", \"doc_2\", \"doc_3\"]))"
   ]
  },
  {
   "cell_type": "code",
   "execution_count": 17,
   "metadata": {},
   "outputs": [
    {
     "name": "stdout",
     "output_type": "stream",
     "text": [
      "Term Frequency Matrix\n",
      "=====================\n",
      "[[0 1 0 1 1 0]\n",
      " [0 1 1 1 0 1]\n",
      " [1 1 0 1 0 2]]\n",
      "=====================\n",
      "\n",
      "IDF table\n",
      "=========\n",
      "               IDF\n",
      "angelina  1.693147\n",
      "cute      1.000000\n",
      "he        1.693147\n",
      "is        1.000000\n",
      "she       1.693147\n",
      "very      1.287682\n",
      "\n",
      "TF-IDF matrix\n",
      "=============\n",
      "\n",
      "[[0.         1.         0.         1.         1.69314718 0.        ]\n",
      " [0.         1.         1.69314718 1.         0.         1.28768207]\n",
      " [1.69314718 1.         0.         1.         0.         2.57536414]]\n"
     ]
    }
   ],
   "source": [
    "#Part 1 - Calculating Term Frequencies\n",
    "from sklearn.feature_extraction.text import CountVectorizer\n",
    "\n",
    "vectorizer = CountVectorizer()\n",
    "term_frequency = vectorizer.fit_transform(corpus_preprocess)\n",
    "\n",
    "#uncomment following to check feature names\n",
    "#print(vectorizer.get_feature_names())\n",
    "\n",
    "print (\"Term Frequency Matrix\")\n",
    "print (\"=====================\")\n",
    "print (term_frequency.toarray())\n",
    "print (\"=====================\")\n",
    "#Part 2 - Calculating Inverse Document Frequency\n",
    "from sklearn.feature_extraction.text import TfidfTransformer\n",
    "\n",
    "vectorizer = TfidfTransformer(norm=None)\n",
    "vectorizer.fit(term_frequency)\n",
    "\n",
    "idf = vectorizer.idf_\n",
    "\n",
    "df = pd.DataFrame(idf, index = feature_names, columns=['IDF'])\n",
    "print (\"\\nIDF table\")\n",
    "print (\"=========\")\n",
    "print(df)\n",
    "\n",
    "\n",
    "tf_idf_scores = vectorizer.fit_transform(term_frequency.toarray())\n",
    "\n",
    "\n",
    "print (\"\\nTF-IDF matrix\")\n",
    "print (\"=============\\n\")\n",
    "print (tf_idf_scores.toarray())"
   ]
  }
 ],
 "metadata": {
  "kernelspec": {
   "display_name": "Python 3",
   "language": "python",
   "name": "python3"
  },
  "language_info": {
   "codemirror_mode": {
    "name": "ipython",
    "version": 3
   },
   "file_extension": ".py",
   "mimetype": "text/x-python",
   "name": "python",
   "nbconvert_exporter": "python",
   "pygments_lexer": "ipython3",
   "version": "3.8.5"
  }
 },
 "nbformat": 4,
 "nbformat_minor": 4
}
